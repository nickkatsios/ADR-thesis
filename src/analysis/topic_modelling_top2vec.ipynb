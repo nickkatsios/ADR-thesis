{
 "cells": [
  {
   "cell_type": "markdown",
   "metadata": {},
   "source": [
    "# Top2Vec"
   ]
  },
  {
   "cell_type": "code",
   "execution_count": null,
   "metadata": {},
   "outputs": [],
   "source": [
    "import sys\n",
    "import os\n",
    "\n",
    "# Get the current working directory\n",
    "current_dir = os.getcwd()\n",
    "\n",
    "# Add the parent directory of 'scrapping' to the system path\n",
    "sys.path.append(os.path.abspath(os.path.join(current_dir, '..', 'scrapping')))\n",
    "\n",
    "# Now you can import the function\n",
    "from text_cleaner import read_and_clean_adrs, read_and_clean_adrs2\n",
    "\n",
    "from sentence_transformers import SentenceTransformer\n",
    "from nltk.corpus import stopwords\n",
    "from markdown2 import markdown\n",
    "import numpy as np\n",
    "from sklearn.pipeline import Pipeline\n",
    "from sklearn.model_selection import GridSearchCV\n",
    "from sklearn.feature_extraction.text import TfidfVectorizer\n",
    "import pyLDAvis\n",
    "import pyLDAvis.lda_model\n",
    "import matplotlib.pyplot as plt\n",
    "\n",
    "print(sys.path)\n",
    "\n",
    "import warnings\n",
    "warnings.filterwarnings('ignore')\n",
    "\n",
    "\n",
    "# Path to the ADR directory\n",
    "adr_directory = \"../../data/ADRs-Updated\""
   ]
  },
  {
   "cell_type": "code",
   "execution_count": null,
   "metadata": {},
   "outputs": [],
   "source": [
    "cleaned_texts = read_and_clean_adrs(adr_directory, save=False)"
   ]
  },
  {
   "cell_type": "code",
   "execution_count": null,
   "metadata": {},
   "outputs": [],
   "source": [
    "from top2vec import Top2Vec\n",
    "\n",
    "# Initialize and train the Top2Vec model\n",
    "# change to deep-learn for higher quality embeddings\n",
    "model = Top2Vec(cleaned_texts, embedding_model='doc2vec', min_count=5, speed='deep-learn', workers=20)\n"
   ]
  },
  {
   "cell_type": "code",
   "execution_count": null,
   "metadata": {},
   "outputs": [],
   "source": [
    "# save model\n",
    "model.save(\"top2vec_model\")"
   ]
  },
  {
   "cell_type": "code",
   "execution_count": null,
   "metadata": {},
   "outputs": [],
   "source": [
    "model.hierarchical_topic_reduction(10)"
   ]
  },
  {
   "cell_type": "code",
   "execution_count": null,
   "metadata": {},
   "outputs": [],
   "source": [
    "# Get the top 20 words for each topic\n",
    "topics = model.get_topics(reduced=True)\n",
    "for i, (words, scores, topic_num) in enumerate(zip(topics[0], topics[1], topics[2])):\n",
    "    print(f\"Topic {i+1}:\")\n",
    "    print(\", \".join(words[:20]))\n",
    "\n",
    "topic_words, word_scores, topic_nums = model.get_topics(reduced=True)\n",
    "\n",
    "# generate wordclouds\n",
    "for topic in topic_nums:\n",
    "    model.generate_topic_wordcloud(topic, background_color='white')"
   ]
  },
  {
   "cell_type": "markdown",
   "metadata": {},
   "source": [
    "## TODO For each topic search for nearest documents and compare if compatible (use builting search functionality) (https://top2vec.readthedocs.io/en/latest/api.html#top2vec.Top2Vec.Top2Vec.search_documents_by_topic)"
   ]
  }
 ],
 "metadata": {
  "kernelspec": {
   "display_name": "Python 3",
   "language": "python",
   "name": "python3"
  },
  "language_info": {
   "codemirror_mode": {
    "name": "ipython",
    "version": 3
   },
   "file_extension": ".py",
   "mimetype": "text/x-python",
   "name": "python",
   "nbconvert_exporter": "python",
   "pygments_lexer": "ipython3",
   "version": "3.12.3"
  }
 },
 "nbformat": 4,
 "nbformat_minor": 2
}
