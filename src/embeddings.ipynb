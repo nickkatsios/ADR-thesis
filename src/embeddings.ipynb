{
 "cells": [
  {
   "cell_type": "code",
   "execution_count": null,
   "metadata": {},
   "outputs": [],
   "source": [
    "import os\n",
    "import pandas as pd\n",
    "from sentence_transformers import SentenceTransformer\n",
    "\n",
    "# Load a pre-trained model from sentence-transformers\n",
    "model = SentenceTransformer('sentence-transformers/all-MiniLM-L6-v2')\n",
    "\n",
    "# Path to the ADR directory\n",
    "adr_directory = \"../data/ADRs-Updated\"\n"
   ]
  },
  {
   "cell_type": "markdown",
   "metadata": {},
   "source": [
    "# Considerations"
   ]
  },
  {
   "cell_type": "markdown",
   "metadata": {},
   "source": [
    "- Max sequence length --> if records are longer than 512 --> split them up and aggregate?\n",
    "- Clean up text --> remove common words, phrases, keep only what has meaning for better clustering --> use libraries to remove markdown elements, common words etc\n",
    "- See interpretation for clusters etc --> read papers on that"
   ]
  },
  {
   "cell_type": "code",
   "execution_count": null,
   "metadata": {},
   "outputs": [],
   "source": [
    "# Function to preprocess text (if not already done)\n",
    "def preprocess_text(text):\n",
    "    # Custom preprocessing if needed\n",
    "    return text"
   ]
  },
  {
   "cell_type": "code",
   "execution_count": null,
   "metadata": {},
   "outputs": [],
   "source": [
    "# List to store filenames and their corresponding embeddings\n",
    "data = []\n",
    "\n",
    "# Read, preprocess, and encode each ADR file\n",
    "count = 0\n",
    "total_files = len(os.listdir(adr_directory))\n",
    "for file_name in os.listdir(adr_directory):\n",
    "    if file_name.endswith('.md'):\n",
    "        file_path = os.path.join(adr_directory, file_name)\n",
    "        with open(file_path, 'r', encoding='utf-8') as file:\n",
    "            text = file.read()\n",
    "            preprocessed_text = preprocess_text(text)\n",
    "            embedding = model.encode(preprocessed_text)\n",
    "            print(f\"Embedding {count+1}/{total_files} for {file_name} has been generated.\")\n",
    "            data.append((file_name, embedding))\n",
    "            count += 1\n",
    "\n",
    "# Create a DataFrame with filenames and their embeddings\n",
    "df = pd.DataFrame(data, columns=['filename', 'embedding'])\n",
    "\n",
    "print(df.head())\n",
    "\n",
    "print(\"Embeddings have been successfully saved.\")"
   ]
  },
  {
   "cell_type": "code",
   "execution_count": null,
   "metadata": {},
   "outputs": [],
   "source": [
    "# perform k means clustering on the embeddings\n",
    "from sklearn.cluster import KMeans\n",
    "from sklearn.metrics import silhouette_score\n",
    "\n",
    "# Number of clusters\n",
    "k = 5\n",
    "\n",
    "# Extract embeddings\n",
    "X = df['embedding'].to_list()\n",
    "\n",
    "# Perform k-means clustering\n",
    "kmeans = KMeans(n_clusters=k, random_state=0).fit(X)\n",
    "df['cluster'] = kmeans.labels_\n",
    "\n",
    "# Save the clusters\n",
    "df.to_csv('clusters.csv', index=False)\n",
    "\n",
    "print(\"Clusters have been successfully saved.\")\n"
   ]
  },
  {
   "cell_type": "code",
   "execution_count": null,
   "metadata": {},
   "outputs": [],
   "source": [
    "# visualize the clusters\n",
    "import matplotlib.pyplot as plt\n",
    "from sklearn.decomposition import PCA\n",
    "\n",
    "# Perform PCA on the embeddings\n",
    "pca = PCA(n_components=2)\n",
    "X_pca = pca.fit_transform(X)\n",
    "\n",
    "# Create a DataFrame with the PCA components\n",
    "df_pca = pd.DataFrame(X_pca, columns=['PCA1', 'PCA2'])\n",
    "df_pca['cluster'] = kmeans.labels_\n",
    "\n",
    "# Plot the clusters\n",
    "plt.figure(figsize=(10, 10))\n",
    "for cluster in range(k):\n",
    "    cluster_df = df_pca[df_pca['cluster'] == cluster]\n",
    "    plt.scatter(cluster_df['PCA1'], cluster_df['PCA2'], label=f'Cluster {cluster}')\n",
    "plt.legend()\n",
    "plt.title('Clusters of ADRs')\n",
    "plt.savefig('clusters.png')"
   ]
  }
 ],
 "metadata": {
  "kernelspec": {
   "display_name": "Python 3",
   "language": "python",
   "name": "python3"
  },
  "language_info": {
   "codemirror_mode": {
    "name": "ipython",
    "version": 3
   },
   "file_extension": ".py",
   "mimetype": "text/x-python",
   "name": "python",
   "nbconvert_exporter": "python",
   "pygments_lexer": "ipython3",
   "version": "3.12.3"
  }
 },
 "nbformat": 4,
 "nbformat_minor": 2
}
